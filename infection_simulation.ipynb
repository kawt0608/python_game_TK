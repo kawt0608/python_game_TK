{
  "nbformat": 4,
  "nbformat_minor": 0,
  "metadata": {
    "colab": {
      "provenance": []
    },
    "kernelspec": {
      "name": "python3",
      "display_name": "Python 3"
    },
    "language_info": {
      "name": "python"
    }
  },
  "cells": [
    {
      "cell_type": "code",
      "source": [
        "!pip install networkx matplotlib"
      ],
      "metadata": {
        "id": "eU_qAajEovHu"
      },
      "execution_count": null,
      "outputs": []
    },
    {
      "cell_type": "code",
      "source": [
        "import networkx as nx\n",
        "import matplotlib.pyplot as plt\n",
        "import random\n",
        "\n",
        "# ユーザーからの入力を受け取り、パラメータを設定\n",
        "num_nodes = int(input(\"ノード数を入力してください : \"))  # ノード数\n",
        "initial_infected_percentage = float(input(\"初期感染者の割合を入力してください (%): \")) / 100  # 初期感染者の割合\n",
        "transmission_probability = float(input(\"感染の確率を入力してください (%): \")) / 100  # 感染の確率\n",
        "recovery_probability = float(input(\"回復の確率を入力してください (%): \")) / 100  # 回復の確率\n",
        "steps = int(input(\"シミュレーションのステップ数を入力してください (例: 30): \"))  # シミュレーションのステップ数\n",
        "\n",
        "# グラフの作成（ランダムな接続のあるエルデシュ-レーニグラフ）\n",
        "G = nx.erdos_renyi_graph(n=num_nodes, p=0.1)\n",
        "\n",
        "# 各ノードのステータス（S: Susceptible（未感染）, I: Infected（感染中）, R: Recovered（回復））\n",
        "status = {node: 'S' for node in G.nodes()}\n",
        "\n",
        "# 一部を感染状態にする\n",
        "initial_infected_count = max(1, int(initial_infected_percentage * num_nodes))\n",
        "initial_infected_nodes = random.sample(list(G.nodes()), initial_infected_count)\n",
        "for node in initial_infected_nodes:\n",
        "    status[node] = 'I'\n",
        "\n",
        "def update_status(G, status, transmission_probability, recovery_probability):\n",
        "    new_status = status.copy()\n",
        "    for node in G.nodes():\n",
        "        if status[node] == 'I':\n",
        "            if random.random() < recovery_probability:\n",
        "                new_status[node] = 'R'\n",
        "            else:\n",
        "                neighbors = list(G.neighbors(node))\n",
        "                for neighbor in neighbors:\n",
        "                    if status[neighbor] == 'S' and random.random() < transmission_probability:\n",
        "                        new_status[neighbor] = 'I'\n",
        "    return new_status\n",
        "\n",
        "def draw_network(G, status, step):\n",
        "    color_map = {'S': 'lightblue', 'I': 'red', 'R': 'green'}\n",
        "    node_colors = [color_map[status[node]] for node in G.nodes()]\n",
        "    plt.figure(figsize=(8, 8))\n",
        "    nx.draw(G, node_color=node_colors, with_labels=True, node_size=300, font_size=8)\n",
        "    plt.title(f'Step {step}')\n",
        "    plt.show()\n",
        "\n",
        "# 状態の履歴を保存するリスト\n",
        "susceptible_count_history = []\n",
        "infected_count_history = []\n",
        "recovered_count_history = []\n",
        "\n",
        "# シミュレーション開始\n",
        "for step in range(steps):\n",
        "    draw_network(G, status, step)\n",
        "    # カウントと履歴の更新\n",
        "    susceptible_count = sum(1 for state in status.values() if state == 'S')\n",
        "    infected_count = sum(1 for state in status.values() if state == 'I')\n",
        "    recovered_count = sum(1 for state in status.values() if state == 'R')\n",
        "\n",
        "    susceptible_count_history.append(susceptible_count)\n",
        "    infected_count_history.append(infected_count)\n",
        "    recovered_count_history.append(recovered_count)\n",
        "\n",
        "    # ステータスを更新\n",
        "    status = update_status(G, status, transmission_probability, recovery_probability)\n",
        "\n",
        "# 感染者・非感染者・回復者の数を表示する折れ線グラフ\n",
        "plt.figure(figsize=(10, 6))\n",
        "plt.plot(range(steps), susceptible_count_history, label=\"Susceptible\", color='lightblue')\n",
        "plt.plot(range(steps), infected_count_history, label=\"Infected\", color='red')\n",
        "plt.plot(range(steps), recovered_count_history, label=\"Recovered\", color='green')\n",
        "plt.xlabel('Step')\n",
        "plt.ylabel('Count')\n",
        "plt.title('SIR Model Simulation')\n",
        "plt.legend()\n",
        "plt.grid(True)\n",
        "plt.show()"
      ],
      "metadata": {
        "id": "7UmirduPE-0k"
      },
      "execution_count": null,
      "outputs": []
    }
  ]
}